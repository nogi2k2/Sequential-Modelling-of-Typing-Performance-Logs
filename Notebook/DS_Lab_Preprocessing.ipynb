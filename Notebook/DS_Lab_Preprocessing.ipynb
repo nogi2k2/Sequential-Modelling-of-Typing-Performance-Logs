{
  "nbformat": 4,
  "nbformat_minor": 0,
  "metadata": {
    "colab": {
      "provenance": [],
      "collapsed_sections": [
        "Ari3D9a2Rkro",
        "KtgXqhyhRuF_"
      ]
    },
    "kernelspec": {
      "name": "python3",
      "display_name": "Python 3"
    },
    "language_info": {
      "name": "python"
    }
  },
  "cells": [
    {
      "cell_type": "markdown",
      "source": [
        "# **Library Installation and Imports**"
      ],
      "metadata": {
        "id": "Ari3D9a2Rkro"
      }
    },
    {
      "cell_type": "code",
      "source": [
        "import pandas as pd\n",
        "from google.colab import drive\n",
        "import matplotlib.pyplot as plt\n",
        "import seaborn as sns\n",
        "import os\n",
        "\n",
        "drive.mount('/content/drive', force_remount = True)"
      ],
      "metadata": {
        "colab": {
          "base_uri": "https://localhost:8080/"
        },
        "id": "Yj_TLGNIRilZ",
        "outputId": "77b21007-70ba-4519-d650-2c9f59536fdb"
      },
      "execution_count": 3,
      "outputs": [
        {
          "output_type": "stream",
          "name": "stdout",
          "text": [
            "Mounted at /content/drive\n"
          ]
        }
      ]
    },
    {
      "cell_type": "markdown",
      "source": [
        "# **Dataset Loading and Preprocessing**"
      ],
      "metadata": {
        "id": "KtgXqhyhRuF_"
      }
    },
    {
      "cell_type": "code",
      "execution_count": 4,
      "metadata": {
        "colab": {
          "base_uri": "https://localhost:8080/"
        },
        "id": "tTBscxgfQmJ8",
        "outputId": "13d7eb45-ebd2-40f1-97b6-d9e0f2f6f749"
      },
      "outputs": [
        {
          "output_type": "stream",
          "name": "stdout",
          "text": [
            "The number of records for user1: 645\n",
            "The number of records for user2: 645\n"
          ]
        }
      ],
      "source": [
        "df_user1 = pd.read_csv('/content/drive/MyDrive/DS_LAB/Dataset/user1.csv')\n",
        "df_user2 = pd.read_csv('/content/drive/MyDrive/DS_LAB/Dataset/user2.csv')\n",
        "\n",
        "filtered_user1 = df_user1[df_user1['mode2'] == 30].head(645)\n",
        "filtered_user2 = df_user2[df_user2['mode2'] == '30']\n",
        "\n",
        "print(f\"The number of records for user1: {len(filtered_user1)}\")\n",
        "print(f\"The number of records for user2: {len(filtered_user2)}\")"
      ]
    },
    {
      "cell_type": "code",
      "source": [
        "filtered_user2 = filtered_user2.copy()\n",
        "filtered_user2['mode2'] = filtered_user2['mode2'].astype(int)\n",
        "\n",
        "filtered_user1['quoteLength'] = filtered_user1['quoteLength'].fillna(0).astype(int)\n",
        "filtered_user2['quoteLength'] = filtered_user2['quoteLength'].astype(int)"
      ],
      "metadata": {
        "id": "ATMrnVdlXhvh"
      },
      "execution_count": 5,
      "outputs": []
    },
    {
      "cell_type": "code",
      "source": [
        "unique_counts = filtered_user1.nunique()\n",
        "print(unique_counts)\n",
        "constant_cols = unique_counts[unique_counts <= 1].index.tolist()\n",
        "print(f'Columns with 1 or fewer unique values (candidates for dropping): {constant_cols}')"
      ],
      "metadata": {
        "colab": {
          "base_uri": "https://localhost:8080/"
        },
        "id": "mL5qbGjMu8gG",
        "outputId": "59cd197e-c5bb-4b72-8b9c-342231bda5ed"
      },
      "execution_count": 6,
      "outputs": [
        {
          "output_type": "stream",
          "name": "stdout",
          "text": [
            "_id                      645\n",
            "isPb                       1\n",
            "wpm                      259\n",
            "acc                      360\n",
            "rawWpm                   249\n",
            "consistency              494\n",
            "charStats                406\n",
            "mode                       1\n",
            "mode2                      1\n",
            "quoteLength                2\n",
            "restartCount              11\n",
            "testDuration               3\n",
            "afkDuration                4\n",
            "incompleteTestSeconds    237\n",
            "punctuation                1\n",
            "numbers                    1\n",
            "language                   1\n",
            "funbox                     0\n",
            "difficulty                 1\n",
            "lazyMode                   1\n",
            "blindMode                  1\n",
            "bailedOut                  1\n",
            "tags                       0\n",
            "timestamp                645\n",
            "dtype: int64\n",
            "Columns with 1 or fewer unique values (candidates for dropping): ['isPb', 'mode', 'mode2', 'punctuation', 'numbers', 'language', 'funbox', 'difficulty', 'lazyMode', 'blindMode', 'bailedOut', 'tags']\n"
          ]
        }
      ]
    },
    {
      "cell_type": "code",
      "source": [
        "cols_to_drop = [\n",
        "    '_id', 'mode', 'mode2', 'quoteLength', 'punctuation', 'numbers',\n",
        "    'language', 'funbox', 'difficulty', 'lazyMode', 'tags', 'blindMode', 'bailedOut', 'isPb'\n",
        "]\n",
        "\n",
        "filtered_user1 = filtered_user1.drop(columns=cols_to_drop)\n",
        "filtered_user2 = filtered_user2.drop(columns=cols_to_drop)"
      ],
      "metadata": {
        "id": "aH5YJSbkvahu"
      },
      "execution_count": 7,
      "outputs": []
    },
    {
      "cell_type": "code",
      "source": [
        "min_timestamp_user1 = df_user1['timestamp'].min()\n",
        "min_timestamp_user2 = df_user2['timestamp'].min()\n",
        "\n",
        "print(f\"Minimum timestamp in user1 dataset: {min_timestamp_user1}\")\n",
        "print(f\"Minimum timestamp in user2 dataset: {min_timestamp_user2}\")\n",
        "\n",
        "min_ts_user1 = min_timestamp_user1\n",
        "min_ts_user2 = min_timestamp_user2\n",
        "\n",
        "start_date_user1 = pd.to_datetime(min_ts_user1, unit='ms')\n",
        "start_date_user2 = pd.to_datetime(min_ts_user2, unit='ms')\n",
        "\n",
        "print(f\"\\nUser1 data collection start date: {start_date_user1}\")\n",
        "print(f\"User2 data collection start date: {start_date_user2}\")"
      ],
      "metadata": {
        "colab": {
          "base_uri": "https://localhost:8080/"
        },
        "id": "Pxd_amIYwfIU",
        "outputId": "7f100ed4-63ec-4d2d-d268-161cc4d93b67"
      },
      "execution_count": 8,
      "outputs": [
        {
          "output_type": "stream",
          "name": "stdout",
          "text": [
            "Minimum timestamp in user1 dataset: 1617051568259\n",
            "Minimum timestamp in user2 dataset: 1624348421344\n",
            "\n",
            "User1 data collection start date: 2021-03-29 20:59:28.259000\n",
            "User2 data collection start date: 2021-06-22 07:53:41.344000\n"
          ]
        }
      ]
    },
    {
      "cell_type": "code",
      "source": [
        "def categorize_time_of_day(hour):\n",
        "    if 5 <= hour < 12:\n",
        "        return 'morning'\n",
        "    elif 12 <= hour < 17:\n",
        "        return 'afternoon'\n",
        "    elif 17 <= hour < 21:\n",
        "        return 'evening'\n",
        "    else:\n",
        "        return 'night'"
      ],
      "metadata": {
        "id": "z4DOUEsFzylT"
      },
      "execution_count": 9,
      "outputs": []
    },
    {
      "cell_type": "code",
      "source": [
        "filtered_user1['datetime'] = pd.to_datetime(filtered_user1['timestamp'], unit='ms')\n",
        "filtered_user2['datetime'] = pd.to_datetime(filtered_user2['timestamp'], unit='ms')\n",
        "\n",
        "filtered_user1['time_of_day'] = filtered_user1['datetime'].dt.hour.apply(categorize_time_of_day)\n",
        "filtered_user2['time_of_day'] = filtered_user2['datetime'].dt.hour.apply(categorize_time_of_day)\n",
        "\n",
        "filtered_user1 = filtered_user1.drop(columns=[\"timestamp\"])\n",
        "filtered_user2 = filtered_user2.drop(columns=[\"timestamp\"])\n",
        "\n",
        "filtered_user1['user_id'] = 1\n",
        "filtered_user2['user_id'] = 2\n",
        "\n",
        "print(filtered_user1['time_of_day'].value_counts())\n",
        "print()\n",
        "print(filtered_user2['time_of_day'].value_counts())"
      ],
      "metadata": {
        "colab": {
          "base_uri": "https://localhost:8080/"
        },
        "id": "neWDlWExztWv",
        "outputId": "29e15ddf-e342-4303-b69b-c380eadfba10"
      },
      "execution_count": 10,
      "outputs": [
        {
          "output_type": "stream",
          "name": "stdout",
          "text": [
            "time_of_day\n",
            "afternoon    285\n",
            "morning      231\n",
            "evening      117\n",
            "night         12\n",
            "Name: count, dtype: int64\n",
            "\n",
            "time_of_day\n",
            "morning      304\n",
            "afternoon    163\n",
            "night        132\n",
            "evening       46\n",
            "Name: count, dtype: int64\n"
          ]
        }
      ]
    },
    {
      "cell_type": "code",
      "source": [
        "def split_char_stats(df):\n",
        "    char_stats_split = df['charStats'].str.split(';', expand=True)\n",
        "    char_stats_split.columns = [\n",
        "        'correct_characters', 'incorrect_characters', 'extra_characters', 'missed_characters'\n",
        "    ]\n",
        "\n",
        "    for col in char_stats_split.columns:\n",
        "        char_stats_split[col] = pd.to_numeric(char_stats_split[col], errors='coerce').fillna(0).astype(int)\n",
        "\n",
        "    df = pd.concat([df.drop(columns=['charStats']), char_stats_split], axis=1)\n",
        "    return df\n",
        "\n",
        "filtered_user1 = split_char_stats(filtered_user1)\n",
        "filtered_user2 = split_char_stats(filtered_user2)"
      ],
      "metadata": {
        "id": "YLUhW8ll2HFh"
      },
      "execution_count": 11,
      "outputs": []
    },
    {
      "cell_type": "code",
      "source": [
        "cols1 = list(filtered_user1.columns)\n",
        "cols2 = list(filtered_user2.columns)\n",
        "\n",
        "common_cols = list(set(cols1).intersection(cols2))\n",
        "print(f\"Columns in df_user1: {len(cols1)} | Column: {cols1}\")\n",
        "print(f\"Columns in df_user2: {len(cols2)} | Columns: {cols2}\")\n",
        "print(f\"Number of common columns: {len(common_cols)}\")"
      ],
      "metadata": {
        "colab": {
          "base_uri": "https://localhost:8080/"
        },
        "id": "7WBKPYFC7Tqz",
        "outputId": "8c5af1b8-e67b-4503-ecaa-9aa6e4919a23"
      },
      "execution_count": 12,
      "outputs": [
        {
          "output_type": "stream",
          "name": "stdout",
          "text": [
            "Columns in df_user1: 15 | Column: ['wpm', 'acc', 'rawWpm', 'consistency', 'restartCount', 'testDuration', 'afkDuration', 'incompleteTestSeconds', 'datetime', 'time_of_day', 'user_id', 'correct_characters', 'incorrect_characters', 'extra_characters', 'missed_characters']\n",
            "Columns in df_user2: 15 | Columns: ['wpm', 'acc', 'rawWpm', 'consistency', 'restartCount', 'testDuration', 'afkDuration', 'incompleteTestSeconds', 'datetime', 'time_of_day', 'user_id', 'correct_characters', 'incorrect_characters', 'extra_characters', 'missed_characters']\n",
            "Number of common columns: 15\n"
          ]
        }
      ]
    },
    {
      "cell_type": "code",
      "source": [
        "ordered_cols = [\n",
        "    'user_id', 'datetime', 'time_of_day',\n",
        "    'wpm', 'rawWpm', 'acc', 'consistency',\n",
        "    'restartCount', 'testDuration', 'afkDuration', 'incompleteTestSeconds',\n",
        "    'correct_characters', 'incorrect_characters', 'extra_characters', 'missed_characters'\n",
        "]\n",
        "\n",
        "filtered_user1 = filtered_user1[ordered_cols]\n",
        "filtered_user2 = filtered_user2[ordered_cols]"
      ],
      "metadata": {
        "id": "4DSlfdud70Dv"
      },
      "execution_count": 13,
      "outputs": []
    },
    {
      "cell_type": "code",
      "source": [
        "combined_df = pd.concat([filtered_user1, filtered_user2], ignore_index=True)\n",
        "print(f'Combined dataset shape: {combined_df.shape}')"
      ],
      "metadata": {
        "colab": {
          "base_uri": "https://localhost:8080/"
        },
        "id": "Xcc0TljFYVu6",
        "outputId": "3fb8df60-ec1c-4850-d59c-fd68d2cd7122"
      },
      "execution_count": 14,
      "outputs": [
        {
          "output_type": "stream",
          "name": "stdout",
          "text": [
            "Combined dataset shape: (1290, 15)\n"
          ]
        }
      ]
    },
    {
      "cell_type": "code",
      "source": [
        "combined_df[['wpm', 'rawWpm']].corr()"
      ],
      "metadata": {
        "colab": {
          "base_uri": "https://localhost:8080/",
          "height": 0
        },
        "id": "CBtSYtLu9mpt",
        "outputId": "b89fe82b-15e1-4c9a-abab-df1b80c3c356"
      },
      "execution_count": 15,
      "outputs": [
        {
          "output_type": "execute_result",
          "data": {
            "text/plain": [
              "             wpm    rawWpm\n",
              "wpm     1.000000  0.986886\n",
              "rawWpm  0.986886  1.000000"
            ],
            "text/html": [
              "\n",
              "  <div id=\"df-c905d9ea-0899-426c-881c-12abe35ccbe7\" class=\"colab-df-container\">\n",
              "    <div>\n",
              "<style scoped>\n",
              "    .dataframe tbody tr th:only-of-type {\n",
              "        vertical-align: middle;\n",
              "    }\n",
              "\n",
              "    .dataframe tbody tr th {\n",
              "        vertical-align: top;\n",
              "    }\n",
              "\n",
              "    .dataframe thead th {\n",
              "        text-align: right;\n",
              "    }\n",
              "</style>\n",
              "<table border=\"1\" class=\"dataframe\">\n",
              "  <thead>\n",
              "    <tr style=\"text-align: right;\">\n",
              "      <th></th>\n",
              "      <th>wpm</th>\n",
              "      <th>rawWpm</th>\n",
              "    </tr>\n",
              "  </thead>\n",
              "  <tbody>\n",
              "    <tr>\n",
              "      <th>wpm</th>\n",
              "      <td>1.000000</td>\n",
              "      <td>0.986886</td>\n",
              "    </tr>\n",
              "    <tr>\n",
              "      <th>rawWpm</th>\n",
              "      <td>0.986886</td>\n",
              "      <td>1.000000</td>\n",
              "    </tr>\n",
              "  </tbody>\n",
              "</table>\n",
              "</div>\n",
              "    <div class=\"colab-df-buttons\">\n",
              "\n",
              "  <div class=\"colab-df-container\">\n",
              "    <button class=\"colab-df-convert\" onclick=\"convertToInteractive('df-c905d9ea-0899-426c-881c-12abe35ccbe7')\"\n",
              "            title=\"Convert this dataframe to an interactive table.\"\n",
              "            style=\"display:none;\">\n",
              "\n",
              "  <svg xmlns=\"http://www.w3.org/2000/svg\" height=\"24px\" viewBox=\"0 -960 960 960\">\n",
              "    <path d=\"M120-120v-720h720v720H120Zm60-500h600v-160H180v160Zm220 220h160v-160H400v160Zm0 220h160v-160H400v160ZM180-400h160v-160H180v160Zm440 0h160v-160H620v160ZM180-180h160v-160H180v160Zm440 0h160v-160H620v160Z\"/>\n",
              "  </svg>\n",
              "    </button>\n",
              "\n",
              "  <style>\n",
              "    .colab-df-container {\n",
              "      display:flex;\n",
              "      gap: 12px;\n",
              "    }\n",
              "\n",
              "    .colab-df-convert {\n",
              "      background-color: #E8F0FE;\n",
              "      border: none;\n",
              "      border-radius: 50%;\n",
              "      cursor: pointer;\n",
              "      display: none;\n",
              "      fill: #1967D2;\n",
              "      height: 32px;\n",
              "      padding: 0 0 0 0;\n",
              "      width: 32px;\n",
              "    }\n",
              "\n",
              "    .colab-df-convert:hover {\n",
              "      background-color: #E2EBFA;\n",
              "      box-shadow: 0px 1px 2px rgba(60, 64, 67, 0.3), 0px 1px 3px 1px rgba(60, 64, 67, 0.15);\n",
              "      fill: #174EA6;\n",
              "    }\n",
              "\n",
              "    .colab-df-buttons div {\n",
              "      margin-bottom: 4px;\n",
              "    }\n",
              "\n",
              "    [theme=dark] .colab-df-convert {\n",
              "      background-color: #3B4455;\n",
              "      fill: #D2E3FC;\n",
              "    }\n",
              "\n",
              "    [theme=dark] .colab-df-convert:hover {\n",
              "      background-color: #434B5C;\n",
              "      box-shadow: 0px 1px 3px 1px rgba(0, 0, 0, 0.15);\n",
              "      filter: drop-shadow(0px 1px 2px rgba(0, 0, 0, 0.3));\n",
              "      fill: #FFFFFF;\n",
              "    }\n",
              "  </style>\n",
              "\n",
              "    <script>\n",
              "      const buttonEl =\n",
              "        document.querySelector('#df-c905d9ea-0899-426c-881c-12abe35ccbe7 button.colab-df-convert');\n",
              "      buttonEl.style.display =\n",
              "        google.colab.kernel.accessAllowed ? 'block' : 'none';\n",
              "\n",
              "      async function convertToInteractive(key) {\n",
              "        const element = document.querySelector('#df-c905d9ea-0899-426c-881c-12abe35ccbe7');\n",
              "        const dataTable =\n",
              "          await google.colab.kernel.invokeFunction('convertToInteractive',\n",
              "                                                    [key], {});\n",
              "        if (!dataTable) return;\n",
              "\n",
              "        const docLinkHtml = 'Like what you see? Visit the ' +\n",
              "          '<a target=\"_blank\" href=https://colab.research.google.com/notebooks/data_table.ipynb>data table notebook</a>'\n",
              "          + ' to learn more about interactive tables.';\n",
              "        element.innerHTML = '';\n",
              "        dataTable['output_type'] = 'display_data';\n",
              "        await google.colab.output.renderOutput(dataTable, element);\n",
              "        const docLink = document.createElement('div');\n",
              "        docLink.innerHTML = docLinkHtml;\n",
              "        element.appendChild(docLink);\n",
              "      }\n",
              "    </script>\n",
              "  </div>\n",
              "\n",
              "\n",
              "    <div id=\"df-06d2a432-31a7-4398-b769-4f10ecaf5cc8\">\n",
              "      <button class=\"colab-df-quickchart\" onclick=\"quickchart('df-06d2a432-31a7-4398-b769-4f10ecaf5cc8')\"\n",
              "                title=\"Suggest charts\"\n",
              "                style=\"display:none;\">\n",
              "\n",
              "<svg xmlns=\"http://www.w3.org/2000/svg\" height=\"24px\"viewBox=\"0 0 24 24\"\n",
              "     width=\"24px\">\n",
              "    <g>\n",
              "        <path d=\"M19 3H5c-1.1 0-2 .9-2 2v14c0 1.1.9 2 2 2h14c1.1 0 2-.9 2-2V5c0-1.1-.9-2-2-2zM9 17H7v-7h2v7zm4 0h-2V7h2v10zm4 0h-2v-4h2v4z\"/>\n",
              "    </g>\n",
              "</svg>\n",
              "      </button>\n",
              "\n",
              "<style>\n",
              "  .colab-df-quickchart {\n",
              "      --bg-color: #E8F0FE;\n",
              "      --fill-color: #1967D2;\n",
              "      --hover-bg-color: #E2EBFA;\n",
              "      --hover-fill-color: #174EA6;\n",
              "      --disabled-fill-color: #AAA;\n",
              "      --disabled-bg-color: #DDD;\n",
              "  }\n",
              "\n",
              "  [theme=dark] .colab-df-quickchart {\n",
              "      --bg-color: #3B4455;\n",
              "      --fill-color: #D2E3FC;\n",
              "      --hover-bg-color: #434B5C;\n",
              "      --hover-fill-color: #FFFFFF;\n",
              "      --disabled-bg-color: #3B4455;\n",
              "      --disabled-fill-color: #666;\n",
              "  }\n",
              "\n",
              "  .colab-df-quickchart {\n",
              "    background-color: var(--bg-color);\n",
              "    border: none;\n",
              "    border-radius: 50%;\n",
              "    cursor: pointer;\n",
              "    display: none;\n",
              "    fill: var(--fill-color);\n",
              "    height: 32px;\n",
              "    padding: 0;\n",
              "    width: 32px;\n",
              "  }\n",
              "\n",
              "  .colab-df-quickchart:hover {\n",
              "    background-color: var(--hover-bg-color);\n",
              "    box-shadow: 0 1px 2px rgba(60, 64, 67, 0.3), 0 1px 3px 1px rgba(60, 64, 67, 0.15);\n",
              "    fill: var(--button-hover-fill-color);\n",
              "  }\n",
              "\n",
              "  .colab-df-quickchart-complete:disabled,\n",
              "  .colab-df-quickchart-complete:disabled:hover {\n",
              "    background-color: var(--disabled-bg-color);\n",
              "    fill: var(--disabled-fill-color);\n",
              "    box-shadow: none;\n",
              "  }\n",
              "\n",
              "  .colab-df-spinner {\n",
              "    border: 2px solid var(--fill-color);\n",
              "    border-color: transparent;\n",
              "    border-bottom-color: var(--fill-color);\n",
              "    animation:\n",
              "      spin 1s steps(1) infinite;\n",
              "  }\n",
              "\n",
              "  @keyframes spin {\n",
              "    0% {\n",
              "      border-color: transparent;\n",
              "      border-bottom-color: var(--fill-color);\n",
              "      border-left-color: var(--fill-color);\n",
              "    }\n",
              "    20% {\n",
              "      border-color: transparent;\n",
              "      border-left-color: var(--fill-color);\n",
              "      border-top-color: var(--fill-color);\n",
              "    }\n",
              "    30% {\n",
              "      border-color: transparent;\n",
              "      border-left-color: var(--fill-color);\n",
              "      border-top-color: var(--fill-color);\n",
              "      border-right-color: var(--fill-color);\n",
              "    }\n",
              "    40% {\n",
              "      border-color: transparent;\n",
              "      border-right-color: var(--fill-color);\n",
              "      border-top-color: var(--fill-color);\n",
              "    }\n",
              "    60% {\n",
              "      border-color: transparent;\n",
              "      border-right-color: var(--fill-color);\n",
              "    }\n",
              "    80% {\n",
              "      border-color: transparent;\n",
              "      border-right-color: var(--fill-color);\n",
              "      border-bottom-color: var(--fill-color);\n",
              "    }\n",
              "    90% {\n",
              "      border-color: transparent;\n",
              "      border-bottom-color: var(--fill-color);\n",
              "    }\n",
              "  }\n",
              "</style>\n",
              "\n",
              "      <script>\n",
              "        async function quickchart(key) {\n",
              "          const quickchartButtonEl =\n",
              "            document.querySelector('#' + key + ' button');\n",
              "          quickchartButtonEl.disabled = true;  // To prevent multiple clicks.\n",
              "          quickchartButtonEl.classList.add('colab-df-spinner');\n",
              "          try {\n",
              "            const charts = await google.colab.kernel.invokeFunction(\n",
              "                'suggestCharts', [key], {});\n",
              "          } catch (error) {\n",
              "            console.error('Error during call to suggestCharts:', error);\n",
              "          }\n",
              "          quickchartButtonEl.classList.remove('colab-df-spinner');\n",
              "          quickchartButtonEl.classList.add('colab-df-quickchart-complete');\n",
              "        }\n",
              "        (() => {\n",
              "          let quickchartButtonEl =\n",
              "            document.querySelector('#df-06d2a432-31a7-4398-b769-4f10ecaf5cc8 button');\n",
              "          quickchartButtonEl.style.display =\n",
              "            google.colab.kernel.accessAllowed ? 'block' : 'none';\n",
              "        })();\n",
              "      </script>\n",
              "    </div>\n",
              "\n",
              "    </div>\n",
              "  </div>\n"
            ],
            "application/vnd.google.colaboratory.intrinsic+json": {
              "type": "dataframe",
              "summary": "{\n  \"name\": \"combined_df[['wpm', 'rawWpm']]\",\n  \"rows\": 2,\n  \"fields\": [\n    {\n      \"column\": \"wpm\",\n      \"properties\": {\n        \"dtype\": \"number\",\n        \"std\": 0.00927286627683786,\n        \"min\": 0.9868861867492238,\n        \"max\": 1.0,\n        \"num_unique_values\": 2,\n        \"samples\": [\n          0.9868861867492238,\n          1.0\n        ],\n        \"semantic_type\": \"\",\n        \"description\": \"\"\n      }\n    },\n    {\n      \"column\": \"rawWpm\",\n      \"properties\": {\n        \"dtype\": \"number\",\n        \"std\": 0.00927286627683786,\n        \"min\": 0.9868861867492238,\n        \"max\": 1.0,\n        \"num_unique_values\": 2,\n        \"samples\": [\n          1.0,\n          0.9868861867492238\n        ],\n        \"semantic_type\": \"\",\n        \"description\": \"\"\n      }\n    }\n  ]\n}"
            }
          },
          "metadata": {},
          "execution_count": 15
        }
      ]
    },
    {
      "cell_type": "code",
      "source": [
        "save_path = \"/content/drive/MyDrive/DS_LAB//Processed/\"\n",
        "os.makedirs(save_path, exist_ok=True)\n",
        "filtered_user1.to_pickle(save_path + \"filtered_user1.pkl\")\n",
        "filtered_user2.to_pickle(save_path + \"filtered_user2.pkl\")\n",
        "combined_df.to_pickle(save_path + \"combined_df.pkl\")\n",
        "print(\"Data Saved\")"
      ],
      "metadata": {
        "colab": {
          "base_uri": "https://localhost:8080/"
        },
        "id": "exZ9Ji4eLLZl",
        "outputId": "73401e37-7a49-4775-c83b-90e0e004f2df"
      },
      "execution_count": 16,
      "outputs": [
        {
          "output_type": "stream",
          "name": "stdout",
          "text": [
            "Data Saved\n"
          ]
        }
      ]
    }
  ]
}